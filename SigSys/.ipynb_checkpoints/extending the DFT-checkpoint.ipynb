{
 "metadata": {
  "name": "",
  "signature": "sha256:769ad6afc7af3a4a5a71d03145b12c837f216d5839ab275269b080c5599d77be"
 },
 "nbformat": 3,
 "nbformat_minor": 0,
 "worksheets": [
  {
   "cells": [
    {
     "cell_type": "code",
     "collapsed": false,
     "input": [
      "%matplotlib inline\n",
      "%run convenience.ipynb\n",
      "from __future__ import print_function\n",
      "import numpy as np\n",
      "import matplotlib.pyplot as plt"
     ],
     "language": "python",
     "metadata": {},
     "outputs": []
    },
    {
     "cell_type": "heading",
     "level": 3,
     "metadata": {},
     "source": [
      "Part 1: A two-point DFT"
     ]
    },
    {
     "cell_type": "markdown",
     "metadata": {},
     "source": [
      "Plot the function $$x(t) = \\begin{cases} 1~\\rm{V} &t=0~\\rm{s} \\\\ 2~\\rm{V} & t=1~\\rm{s}\\end{cases}$$ (For the sake of consistency, let's maintain that signals exist in the time domain and get transformed into the frequency domain.)"
     ]
    },
    {
     "cell_type": "code",
     "collapsed": false,
     "input": [
      "x=np.array([1,2])\n",
      "t=np.array([0,1])\n",
      "complexplot(t,x,'bo',title='x(t), (V)',xlabel='time (s)')#complexplot arguments: (range, values, style, title='', xlabel='')"
     ],
     "language": "python",
     "metadata": {},
     "outputs": []
    },
    {
     "cell_type": "markdown",
     "metadata": {},
     "source": [
      "Find and plot its DFT."
     ]
    },
    {
     "cell_type": "code",
     "collapsed": false,
     "input": [
      "dft_x=np.fft.fft(x)\n",
      "f=t #This is implicit in the DFT, both t and f are integers from 0 to N-1, where N is the length of x\n",
      "complexplot(f,dft_x,'ro',title='F{x(t)}, (V)',xlabel='frequency (Hz)')"
     ],
     "language": "python",
     "metadata": {},
     "outputs": []
    },
    {
     "cell_type": "heading",
     "level": 3,
     "metadata": {},
     "source": [
      "Part 2: Extending the DFT outside its range"
     ]
    },
    {
     "cell_type": "markdown",
     "metadata": {},
     "source": [
      "Create extended functions using the DFT definition. Look at the implied periodicity outside the range of interest."
     ]
    },
    {
     "cell_type": "code",
     "collapsed": false,
     "input": [
      "f_ext=np.arange(-2,4)\n",
      "dft_ext=x[0]+x[1]*np.exp(-j*2*pi*f_ext/2)\n",
      "complexplot(f_ext,dft_ext,'ro',title='F{x(t)}, (V)',xlabel='frequency (Hz)')"
     ],
     "language": "python",
     "metadata": {},
     "outputs": []
    },
    {
     "cell_type": "markdown",
     "metadata": {},
     "source": [
      "Now use the definition of the DFT again to create extended functions back into the time domain."
     ]
    },
    {
     "cell_type": "code",
     "collapsed": false,
     "input": [
      "t_ext=np.arange(-2,4)\n",
      "x_ext=dft_x[0]/2+dft_x[1]/2*np.exp(j*2*pi*t_ext/2)\n",
      "complexplot(t_ext,x_ext,'bo',title='x(t), (V)',xlabel='time (s)')"
     ],
     "language": "python",
     "metadata": {},
     "outputs": []
    },
    {
     "cell_type": "heading",
     "level": 3,
     "metadata": {},
     "source": [
      "Part 3: Extending the DFT beyond the integers"
     ]
    },
    {
     "cell_type": "markdown",
     "metadata": {},
     "source": [
      "Evaluate both extended functions between the integers."
     ]
    },
    {
     "cell_type": "code",
     "collapsed": false,
     "input": [
      "t_cont=np.arange(-2,4,step=.1)\n",
      "x_cont=dft_x[0]/2+dft_x[1]/2*np.exp(j*2*pi*t_cont/2)\n",
      "complexplot(t_cont,x_cont,'b-')\n",
      "\n",
      "complexplot(t_ext,x_ext,'bo',title='x(t), (V)',xlabel='time (s)')\n",
      "complexplot(t_ext,x_ext,'bo',title='x(t), (V)',xlabel='time (s)')#bug: grid toggles on and off with every call to complexplot"
     ],
     "language": "python",
     "metadata": {},
     "outputs": []
    },
    {
     "cell_type": "code",
     "collapsed": true,
     "input": [
      "f_cont=np.arange(-2,4,step=.1)\n",
      "dft_cont=x[0]+x[1]*np.exp(-j*2*pi*f_cont/2)\n",
      "complexplot(f_cont,dft_cont,'r-',title='F{x(t)}, (V)',xlabel='frequency (Hz)')\n",
      "\n",
      "complexplot(f_ext,dft_ext,'ro',title='F{x(t)}, (V)',xlabel='frequency (Hz)')\n",
      "complexplot(f_ext,dft_ext,'ro',title='F{x(t)}, (V)',xlabel='frequency (Hz)')\n",
      "#bug: grid toggles on and off with every call to complexplot"
     ],
     "language": "python",
     "metadata": {},
     "outputs": []
    },
    {
     "cell_type": "heading",
     "level": 3,
     "metadata": {},
     "source": [
      "Part 4: Rinse and repeat!"
     ]
    },
    {
     "cell_type": "markdown",
     "metadata": {},
     "source": [
      "Change the values of x. The code has been modified to handle sequences of any length."
     ]
    },
    {
     "cell_type": "code",
     "collapsed": false,
     "input": [
      "x=np.array([0,1,0,-1])#synthesize a sequence by hand\n",
      "x=np.concatenate((np.ones(1),np.zeros(9)))#create longer ones!\n",
      "N=len(x)\n",
      "t=np.arange(N)#This is implicit in the DFT, both t and f are integers from 0 to N-1, where N is the length of x\n",
      "complexplot(t,x,'bo',title='x(t), (V)',xlabel='time (s)')\n",
      "\n",
      "dft_x=np.fft.fft(x)#The DFT of x is another sequence (possibly complex) of length N\n",
      "\n",
      "t_cont=np.arange(-N,2*N,step=.1)#This is a continuous range of time that extends beyond [0...N-1]\n",
      "f=t #This is implicit in the DFT, both t and f are integers from 0 to N-1, where N is the length of x\n",
      "\n",
      "x_cont=np.sum(dft_x/N*np.exp(j*2*pi*np.outer(f,t_cont)/N).T,axis=1)\n",
      "#Synthesize x_cont by adding N basis functions over frequencies f\n",
      "#Then, evaluate the synthesized function x_cont over the time range t_cont\n",
      "\n",
      "complexplot(t_cont,x_cont,'b-',title='x(t), (V)',xlabel='time (s)')\n",
      "complexplot(t_cont,x_cont,'b-',title='x(t), (V)',xlabel='time (s)')\n",
      "#bug: grid toggles on and off with every call to complexplot"
     ],
     "language": "python",
     "metadata": {},
     "outputs": []
    },
    {
     "cell_type": "code",
     "collapsed": false,
     "input": [
      "complexplot(f,dft_x,'ro',title='F{x(t)}, (V)',xlabel='frequency (Hz)')\n",
      "\n",
      "f_cont=t_cont #This is a continuous range of frequencies that extends beyond [0...N-1]\n",
      "\n",
      "dft_cont=np.sum(x*np.exp(-j*2*pi*np.outer(t,f_cont)/N).T,axis=1)\n",
      "#Synthesize dft_cont by adding N basis functions over times t\n",
      "#Then, evaluate the synthesized function dft_cont over the frequency range f_cont\n",
      "\n",
      "complexplot(f_cont,dft_cont,'r-',title='F{x(t)}, (V)',xlabel='frequency (Hz)')\n",
      "complexplot(f_cont,dft_cont,'r-',title='F{x(t)}, (V)',xlabel='frequency (Hz)')\n",
      "#bug: grid toggles on and off with every call to complexplot"
     ],
     "language": "python",
     "metadata": {},
     "outputs": []
    }
   ],
   "metadata": {}
  }
 ]
}